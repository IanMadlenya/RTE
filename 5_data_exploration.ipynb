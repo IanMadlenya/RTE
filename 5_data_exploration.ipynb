{
 "cells": [
  {
   "cell_type": "code",
   "execution_count": 1,
   "metadata": {
    "collapsed": false
   },
   "outputs": [],
   "source": [
    "import pandas as pd\n",
    "import numpy as np\n",
    "\n",
    "data_x = pd.read_csv('./data/weather/v3/2013/merged/merged_2013_h0.csv', index_col = 'Time')"
   ]
  },
  {
   "cell_type": "code",
   "execution_count": 2,
   "metadata": {
    "collapsed": false
   },
   "outputs": [
    {
     "name": "stdout",
     "output_type": "stream",
     "text": [
      "<class 'pandas.core.frame.DataFrame'>\n",
      "Index: 8758 entries, 2013-01-01 00:00:00 to 2013-12-31 22:00:00\n",
      "Data columns (total 70 columns):\n",
      "temperature-002    8758 non-null float64\n",
      "cloudiness-002     8758 non-null int64\n",
      "temperature-005    8756 non-null float64\n",
      "cloudiness-005     8757 non-null float64\n",
      "temperature-015    8739 non-null float64\n",
      "cloudiness-015     8741 non-null float64\n",
      "temperature-027    8758 non-null float64\n",
      "cloudiness-027     8758 non-null int64\n",
      "temperature-070    8758 non-null float64\n",
      "cloudiness-070     8758 non-null int64\n",
      "temperature-110    8758 non-null float64\n",
      "cloudiness-110     8758 non-null int64\n",
      "temperature-120    8758 non-null float64\n",
      "cloudiness-120     8758 non-null int64\n",
      "temperature-130    8758 non-null float64\n",
      "cloudiness-130     8758 non-null int64\n",
      "temperature-145    8758 non-null float64\n",
      "cloudiness-145     8758 non-null int64\n",
      "temperature-149    8758 non-null float64\n",
      "cloudiness-149     8758 non-null int64\n",
      "temperature-156    8758 non-null float64\n",
      "cloudiness-156     8758 non-null int64\n",
      "temperature-168    8758 non-null float64\n",
      "cloudiness-168     8758 non-null int64\n",
      "temperature-180    8750 non-null float64\n",
      "cloudiness-180     8751 non-null float64\n",
      "temperature-190    8758 non-null float64\n",
      "cloudiness-190     8758 non-null int64\n",
      "temperature-222    8758 non-null float64\n",
      "cloudiness-222     8758 non-null int64\n",
      "temperature-240    8758 non-null float64\n",
      "cloudiness-240     8758 non-null int64\n",
      "temperature-255    8758 non-null float64\n",
      "cloudiness-255     8758 non-null int64\n",
      "temperature-260    8758 non-null float64\n",
      "cloudiness-260     8758 non-null int64\n",
      "temperature-280    8758 non-null float64\n",
      "cloudiness-280     8758 non-null int64\n",
      "temperature-299    8746 non-null float64\n",
      "cloudiness-299     8748 non-null float64\n",
      "temperature-434    8758 non-null float64\n",
      "cloudiness-434     8758 non-null int64\n",
      "temperature-460    8758 non-null float64\n",
      "cloudiness-460     8758 non-null int64\n",
      "temperature-481    8758 non-null float64\n",
      "cloudiness-481     8758 non-null int64\n",
      "temperature-497    8731 non-null float64\n",
      "cloudiness-497     8735 non-null float64\n",
      "temperature-510    8758 non-null float64\n",
      "cloudiness-510     8758 non-null int64\n",
      "temperature-579    8758 non-null float64\n",
      "cloudiness-579     8758 non-null int64\n",
      "temperature-588    8758 non-null float64\n",
      "cloudiness-588     8758 non-null int64\n",
      "temperature-621    8758 non-null float64\n",
      "cloudiness-621     8758 non-null int64\n",
      "temperature-630    8758 non-null float64\n",
      "cloudiness-630     8758 non-null int64\n",
      "temperature-643    8758 non-null float64\n",
      "cloudiness-643     8758 non-null int64\n",
      "temperature-645    8758 non-null float64\n",
      "cloudiness-645     8758 non-null int64\n",
      "temperature-650    8758 non-null float64\n",
      "cloudiness-650     8758 non-null int64\n",
      "temperature-675    8758 non-null float64\n",
      "cloudiness-675     8758 non-null int64\n",
      "temperature-690    8758 non-null float64\n",
      "cloudiness-690     8758 non-null int64\n",
      "temperature-747    8758 non-null float64\n",
      "cloudiness-747     8758 non-null int64\n",
      "dtypes: float64(40), int64(30)\n",
      "memory usage: 4.7+ MB\n"
     ]
    }
   ],
   "source": [
    "data_x.info()"
   ]
  },
  {
   "cell_type": "code",
   "execution_count": 3,
   "metadata": {
    "collapsed": false
   },
   "outputs": [
    {
     "data": {
      "text/plain": [
       "<matplotlib.axes._subplots.AxesSubplot at 0x7ff54dfe1320>"
      ]
     },
     "execution_count": 3,
     "metadata": {},
     "output_type": "execute_result"
    },
    {
     "data": {
      "image/png": "[encoded data removed]",
      "text/plain": [
       "<matplotlib.figure.Figure at 0x7ff54e3884a8>"
      ]
     },
     "metadata": {},
     "output_type": "display_data"
    }
   ],
   "source": [
    "%matplotlib inline\n",
    "data_x['temperature-002'].plot(kind = 'hist', bins = 96)"
   ]
  },
  {
   "cell_type": "code",
   "execution_count": 4,
   "metadata": {
    "collapsed": false
   },
   "outputs": [
    {
     "data": {
      "text/plain": [
       "<matplotlib.axes._subplots.AxesSubplot at 0x7ff54b81f240>"
      ]
     },
     "execution_count": 4,
     "metadata": {},
     "output_type": "execute_result"
    },
    {
     "data": {
      "image/png": "[encoded data removed]",
      "text/plain": [
       "<matplotlib.figure.Figure at 0x7ff54b830080>"
      ]
     },
     "metadata": {},
     "output_type": "display_data"
    }
   ],
   "source": [
    "data_x['cloudiness-002'].plot(kind = 'hist')"
   ]
  },
  {
   "cell_type": "code",
   "execution_count": 5,
   "metadata": {
    "collapsed": false
   },
   "outputs": [
    {
     "data": {
      "text/html": [
       "<div>\n",
       "<table border=\"1\" class=\"dataframe\">\n",
       "  <thead>\n",
       "    <tr style=\"text-align: right;\">\n",
       "      <th></th>\n",
       "      <th>temperature-002</th>\n",
       "      <th>cloudiness-002</th>\n",
       "      <th>temperature-005</th>\n",
       "      <th>cloudiness-005</th>\n",
       "      <th>temperature-015</th>\n",
       "      <th>cloudiness-015</th>\n",
       "      <th>temperature-027</th>\n",
       "      <th>cloudiness-027</th>\n",
       "      <th>temperature-070</th>\n",
       "      <th>cloudiness-070</th>\n",
       "      <th>...</th>\n",
       "      <th>temperature-645</th>\n",
       "      <th>cloudiness-645</th>\n",
       "      <th>temperature-650</th>\n",
       "      <th>cloudiness-650</th>\n",
       "      <th>temperature-675</th>\n",
       "      <th>cloudiness-675</th>\n",
       "      <th>temperature-690</th>\n",
       "      <th>cloudiness-690</th>\n",
       "      <th>temperature-747</th>\n",
       "      <th>cloudiness-747</th>\n",
       "    </tr>\n",
       "  </thead>\n",
       "  <tbody>\n",
       "    <tr>\n",
       "      <th>count</th>\n",
       "      <td>8758.000000</td>\n",
       "      <td>8758.000000</td>\n",
       "      <td>8756.000000</td>\n",
       "      <td>8757.000000</td>\n",
       "      <td>8739.000000</td>\n",
       "      <td>8741.000000</td>\n",
       "      <td>8758.000000</td>\n",
       "      <td>8758.000000</td>\n",
       "      <td>8758.000000</td>\n",
       "      <td>8758.000000</td>\n",
       "      <td>...</td>\n",
       "      <td>8758.000000</td>\n",
       "      <td>8758.000000</td>\n",
       "      <td>8758.000000</td>\n",
       "      <td>8758.000000</td>\n",
       "      <td>8758.000000</td>\n",
       "      <td>8758.000000</td>\n",
       "      <td>8758.000000</td>\n",
       "      <td>8758.000000</td>\n",
       "      <td>8758.000000</td>\n",
       "      <td>8758.00000</td>\n",
       "    </tr>\n",
       "    <tr>\n",
       "      <th>mean</th>\n",
       "      <td>10.108666</td>\n",
       "      <td>4.823932</td>\n",
       "      <td>10.093559</td>\n",
       "      <td>4.847551</td>\n",
       "      <td>10.349445</td>\n",
       "      <td>4.784807</td>\n",
       "      <td>10.634860</td>\n",
       "      <td>4.596712</td>\n",
       "      <td>10.275953</td>\n",
       "      <td>4.756109</td>\n",
       "      <td>...</td>\n",
       "      <td>14.622117</td>\n",
       "      <td>2.882964</td>\n",
       "      <td>15.084997</td>\n",
       "      <td>2.602306</td>\n",
       "      <td>14.922973</td>\n",
       "      <td>2.661110</td>\n",
       "      <td>15.842338</td>\n",
       "      <td>2.975794</td>\n",
       "      <td>15.476387</td>\n",
       "      <td>3.37383</td>\n",
       "    </tr>\n",
       "    <tr>\n",
       "      <th>std</th>\n",
       "      <td>5.991534</td>\n",
       "      <td>2.877510</td>\n",
       "      <td>6.685689</td>\n",
       "      <td>2.859659</td>\n",
       "      <td>7.335951</td>\n",
       "      <td>2.932697</td>\n",
       "      <td>6.263151</td>\n",
       "      <td>2.933342</td>\n",
       "      <td>7.792500</td>\n",
       "      <td>2.946732</td>\n",
       "      <td>...</td>\n",
       "      <td>8.074588</td>\n",
       "      <td>2.974542</td>\n",
       "      <td>7.943629</td>\n",
       "      <td>2.898217</td>\n",
       "      <td>8.399573</td>\n",
       "      <td>2.923761</td>\n",
       "      <td>6.613972</td>\n",
       "      <td>2.872632</td>\n",
       "      <td>7.335438</td>\n",
       "      <td>2.87766</td>\n",
       "    </tr>\n",
       "    <tr>\n",
       "      <th>min</th>\n",
       "      <td>-9.000000</td>\n",
       "      <td>0.000000</td>\n",
       "      <td>-9.800000</td>\n",
       "      <td>0.000000</td>\n",
       "      <td>-10.300000</td>\n",
       "      <td>0.000000</td>\n",
       "      <td>-4.100000</td>\n",
       "      <td>0.000000</td>\n",
       "      <td>-9.800000</td>\n",
       "      <td>0.000000</td>\n",
       "      <td>...</td>\n",
       "      <td>-3.600000</td>\n",
       "      <td>0.000000</td>\n",
       "      <td>-4.200000</td>\n",
       "      <td>0.000000</td>\n",
       "      <td>-4.900000</td>\n",
       "      <td>0.000000</td>\n",
       "      <td>1.300000</td>\n",
       "      <td>0.000000</td>\n",
       "      <td>-2.500000</td>\n",
       "      <td>0.00000</td>\n",
       "    </tr>\n",
       "    <tr>\n",
       "      <th>25%</th>\n",
       "      <td>6.100000</td>\n",
       "      <td>2.000000</td>\n",
       "      <td>5.300000</td>\n",
       "      <td>2.000000</td>\n",
       "      <td>5.100000</td>\n",
       "      <td>2.000000</td>\n",
       "      <td>6.000000</td>\n",
       "      <td>2.000000</td>\n",
       "      <td>4.300000</td>\n",
       "      <td>2.000000</td>\n",
       "      <td>...</td>\n",
       "      <td>8.600000</td>\n",
       "      <td>0.000000</td>\n",
       "      <td>9.100000</td>\n",
       "      <td>0.000000</td>\n",
       "      <td>9.000000</td>\n",
       "      <td>0.000000</td>\n",
       "      <td>10.500000</td>\n",
       "      <td>0.000000</td>\n",
       "      <td>9.700000</td>\n",
       "      <td>0.00000</td>\n",
       "    </tr>\n",
       "    <tr>\n",
       "      <th>50%</th>\n",
       "      <td>9.900000</td>\n",
       "      <td>6.000000</td>\n",
       "      <td>9.900000</td>\n",
       "      <td>6.000000</td>\n",
       "      <td>9.900000</td>\n",
       "      <td>6.000000</td>\n",
       "      <td>10.300000</td>\n",
       "      <td>5.000000</td>\n",
       "      <td>10.000000</td>\n",
       "      <td>6.000000</td>\n",
       "      <td>...</td>\n",
       "      <td>14.300000</td>\n",
       "      <td>2.000000</td>\n",
       "      <td>14.900000</td>\n",
       "      <td>1.000000</td>\n",
       "      <td>14.700000</td>\n",
       "      <td>1.000000</td>\n",
       "      <td>15.700000</td>\n",
       "      <td>2.000000</td>\n",
       "      <td>15.300000</td>\n",
       "      <td>3.00000</td>\n",
       "    </tr>\n",
       "    <tr>\n",
       "      <th>75%</th>\n",
       "      <td>14.800000</td>\n",
       "      <td>7.000000</td>\n",
       "      <td>14.700000</td>\n",
       "      <td>7.000000</td>\n",
       "      <td>15.500000</td>\n",
       "      <td>7.000000</td>\n",
       "      <td>15.100000</td>\n",
       "      <td>7.000000</td>\n",
       "      <td>15.500000</td>\n",
       "      <td>7.000000</td>\n",
       "      <td>...</td>\n",
       "      <td>20.600000</td>\n",
       "      <td>6.000000</td>\n",
       "      <td>21.100000</td>\n",
       "      <td>5.000000</td>\n",
       "      <td>20.800000</td>\n",
       "      <td>5.000000</td>\n",
       "      <td>21.100000</td>\n",
       "      <td>5.000000</td>\n",
       "      <td>21.000000</td>\n",
       "      <td>6.00000</td>\n",
       "    </tr>\n",
       "    <tr>\n",
       "      <th>max</th>\n",
       "      <td>32.500000</td>\n",
       "      <td>8.000000</td>\n",
       "      <td>33.500000</td>\n",
       "      <td>8.000000</td>\n",
       "      <td>87.100000</td>\n",
       "      <td>8.000000</td>\n",
       "      <td>34.400000</td>\n",
       "      <td>8.000000</td>\n",
       "      <td>36.300000</td>\n",
       "      <td>8.000000</td>\n",
       "      <td>...</td>\n",
       "      <td>36.100000</td>\n",
       "      <td>8.000000</td>\n",
       "      <td>35.900000</td>\n",
       "      <td>8.000000</td>\n",
       "      <td>37.500000</td>\n",
       "      <td>8.000000</td>\n",
       "      <td>31.100000</td>\n",
       "      <td>8.000000</td>\n",
       "      <td>35.300000</td>\n",
       "      <td>8.00000</td>\n",
       "    </tr>\n",
       "  </tbody>\n",
       "</table>\n",
       "<p>8 rows × 70 columns</p>\n",
       "</div>"
      ],
      "text/plain": [
       "       temperature-002  cloudiness-002  temperature-005  cloudiness-005  \\\n",
       "count      8758.000000     8758.000000      8756.000000     8757.000000   \n",
       "mean         10.108666        4.823932        10.093559        4.847551   \n",
       "std           5.991534        2.877510         6.685689        2.859659   \n",
       "min          -9.000000        0.000000        -9.800000        0.000000   \n",
       "25%           6.100000        2.000000         5.300000        2.000000   \n",
       "50%           9.900000        6.000000         9.900000        6.000000   \n",
       "75%          14.800000        7.000000        14.700000        7.000000   \n",
       "max          32.500000        8.000000        33.500000        8.000000   \n",
       "\n",
       "       temperature-015  cloudiness-015  temperature-027  cloudiness-027  \\\n",
       "count      8739.000000     8741.000000      8758.000000     8758.000000   \n",
       "mean         10.349445        4.784807        10.634860        4.596712   \n",
       "std           7.335951        2.932697         6.263151        2.933342   \n",
       "min         -10.300000        0.000000        -4.100000        0.000000   \n",
       "25%           5.100000        2.000000         6.000000        2.000000   \n",
       "50%           9.900000        6.000000        10.300000        5.000000   \n",
       "75%          15.500000        7.000000        15.100000        7.000000   \n",
       "max          87.100000        8.000000        34.400000        8.000000   \n",
       "\n",
       "       temperature-070  cloudiness-070       ...        temperature-645  \\\n",
       "count      8758.000000     8758.000000       ...            8758.000000   \n",
       "mean         10.275953        4.756109       ...              14.622117   \n",
       "std           7.792500        2.946732       ...               8.074588   \n",
       "min          -9.800000        0.000000       ...              -3.600000   \n",
       "25%           4.300000        2.000000       ...               8.600000   \n",
       "50%          10.000000        6.000000       ...              14.300000   \n",
       "75%          15.500000        7.000000       ...              20.600000   \n",
       "max          36.300000        8.000000       ...              36.100000   \n",
       "\n",
       "       cloudiness-645  temperature-650  cloudiness-650  temperature-675  \\\n",
       "count     8758.000000      8758.000000     8758.000000      8758.000000   \n",
       "mean         2.882964        15.084997        2.602306        14.922973   \n",
       "std          2.974542         7.943629        2.898217         8.399573   \n",
       "min          0.000000        -4.200000        0.000000        -4.900000   \n",
       "25%          0.000000         9.100000        0.000000         9.000000   \n",
       "50%          2.000000        14.900000        1.000000        14.700000   \n",
       "75%          6.000000        21.100000        5.000000        20.800000   \n",
       "max          8.000000        35.900000        8.000000        37.500000   \n",
       "\n",
       "       cloudiness-675  temperature-690  cloudiness-690  temperature-747  \\\n",
       "count     8758.000000      8758.000000     8758.000000      8758.000000   \n",
       "mean         2.661110        15.842338        2.975794        15.476387   \n",
       "std          2.923761         6.613972        2.872632         7.335438   \n",
       "min          0.000000         1.300000        0.000000        -2.500000   \n",
       "25%          0.000000        10.500000        0.000000         9.700000   \n",
       "50%          1.000000        15.700000        2.000000        15.300000   \n",
       "75%          5.000000        21.100000        5.000000        21.000000   \n",
       "max          8.000000        31.100000        8.000000        35.300000   \n",
       "\n",
       "       cloudiness-747  \n",
       "count      8758.00000  \n",
       "mean          3.37383  \n",
       "std           2.87766  \n",
       "min           0.00000  \n",
       "25%           0.00000  \n",
       "50%           3.00000  \n",
       "75%           6.00000  \n",
       "max           8.00000  \n",
       "\n",
       "[8 rows x 70 columns]"
      ]
     },
     "execution_count": 5,
     "metadata": {},
     "output_type": "execute_result"
    }
   ],
   "source": [
    "data_x.describe()"
   ]
  },
  {
   "cell_type": "code",
   "execution_count": 6,
   "metadata": {
    "collapsed": false
   },
   "outputs": [
    {
     "data": {
      "text/plain": [
       "Index(['temperature-005', 'cloudiness-005', 'temperature-015',\n",
       "       'cloudiness-015', 'temperature-180', 'cloudiness-180',\n",
       "       'temperature-299', 'cloudiness-299', 'temperature-497',\n",
       "       'cloudiness-497'],\n",
       "      dtype='object')"
      ]
     },
     "execution_count": 6,
     "metadata": {},
     "output_type": "execute_result"
    }
   ],
   "source": [
    "# Columns with missing values\n",
    "# Choosing columns where number of values is not equal to max number of values -> some values are missing.\n",
    "data_x.columns[data_x.describe().loc['count'] != data_x.describe().loc['count'].max()]"
   ]
  },
  {
   "cell_type": "code",
   "execution_count": 7,
   "metadata": {
    "collapsed": true
   },
   "outputs": [],
   "source": [
    "data_y = pd.read_csv('./data/energy/v5/2013/Consumption_2013.csv', index_col = 'Time')"
   ]
  },
  {
   "cell_type": "code",
   "execution_count": 8,
   "metadata": {
    "collapsed": true
   },
   "outputs": [],
   "source": [
    "data_y.drop(data_y.index[0], \n",
    "            inplace = True)"
   ]
  },
  {
   "cell_type": "code",
   "execution_count": 9,
   "metadata": {
    "collapsed": false
   },
   "outputs": [],
   "source": [
    "data_y = data_y.astype(float)"
   ]
  },
  {
   "cell_type": "code",
   "execution_count": 10,
   "metadata": {
    "collapsed": false
   },
   "outputs": [
    {
     "data": {
      "text/html": [
       "<div>\n",
       "<table border=\"1\" class=\"dataframe\">\n",
       "  <thead>\n",
       "    <tr style=\"text-align: right;\">\n",
       "      <th></th>\n",
       "      <th>Auvergne-Rhone-Alpes</th>\n",
       "      <th>Bourgogne-Franche-Comte</th>\n",
       "      <th>Bretagne</th>\n",
       "      <th>Centre-Val de Loire</th>\n",
       "      <th>Grand-Est</th>\n",
       "      <th>Hauts-de-France</th>\n",
       "      <th>Ile-de-France</th>\n",
       "      <th>Normandie</th>\n",
       "      <th>Nouvelle-Aquitaine</th>\n",
       "      <th>Occitanie</th>\n",
       "      <th>PACA</th>\n",
       "      <th>Pays-de-la-Loire</th>\n",
       "    </tr>\n",
       "  </thead>\n",
       "  <tbody>\n",
       "    <tr>\n",
       "      <th>count</th>\n",
       "      <td>17519.000000</td>\n",
       "      <td>17519.000000</td>\n",
       "      <td>17519.000000</td>\n",
       "      <td>17519.00000</td>\n",
       "      <td>17519.000000</td>\n",
       "      <td>17519.000000</td>\n",
       "      <td>17519.000000</td>\n",
       "      <td>17519.000000</td>\n",
       "      <td>17519.000000</td>\n",
       "      <td>17519.000000</td>\n",
       "      <td>17519.000000</td>\n",
       "      <td>17519.000000</td>\n",
       "    </tr>\n",
       "    <tr>\n",
       "      <th>mean</th>\n",
       "      <td>7717.750271</td>\n",
       "      <td>2535.014784</td>\n",
       "      <td>2613.741652</td>\n",
       "      <td>2247.02386</td>\n",
       "      <td>5427.153662</td>\n",
       "      <td>6043.343684</td>\n",
       "      <td>8642.616816</td>\n",
       "      <td>3430.122324</td>\n",
       "      <td>5110.759005</td>\n",
       "      <td>4340.247902</td>\n",
       "      <td>4875.551059</td>\n",
       "      <td>3191.928306</td>\n",
       "    </tr>\n",
       "    <tr>\n",
       "      <th>std</th>\n",
       "      <td>1708.200281</td>\n",
       "      <td>602.260387</td>\n",
       "      <td>705.329137</td>\n",
       "      <td>627.75084</td>\n",
       "      <td>1141.590972</td>\n",
       "      <td>1196.965309</td>\n",
       "      <td>2363.372858</td>\n",
       "      <td>805.721576</td>\n",
       "      <td>1216.823664</td>\n",
       "      <td>1142.174855</td>\n",
       "      <td>1032.661901</td>\n",
       "      <td>863.558309</td>\n",
       "    </tr>\n",
       "    <tr>\n",
       "      <th>min</th>\n",
       "      <td>4101.000000</td>\n",
       "      <td>1177.000000</td>\n",
       "      <td>1225.000000</td>\n",
       "      <td>1021.00000</td>\n",
       "      <td>2783.000000</td>\n",
       "      <td>3292.000000</td>\n",
       "      <td>4196.000000</td>\n",
       "      <td>1869.000000</td>\n",
       "      <td>2817.000000</td>\n",
       "      <td>2214.000000</td>\n",
       "      <td>2943.000000</td>\n",
       "      <td>1434.000000</td>\n",
       "    </tr>\n",
       "    <tr>\n",
       "      <th>25%</th>\n",
       "      <td>6319.000000</td>\n",
       "      <td>2056.500000</td>\n",
       "      <td>2067.000000</td>\n",
       "      <td>1748.50000</td>\n",
       "      <td>4532.000000</td>\n",
       "      <td>5122.000000</td>\n",
       "      <td>6832.000000</td>\n",
       "      <td>2804.500000</td>\n",
       "      <td>4164.000000</td>\n",
       "      <td>3478.500000</td>\n",
       "      <td>4103.000000</td>\n",
       "      <td>2519.000000</td>\n",
       "    </tr>\n",
       "    <tr>\n",
       "      <th>50%</th>\n",
       "      <td>7499.000000</td>\n",
       "      <td>2503.000000</td>\n",
       "      <td>2505.000000</td>\n",
       "      <td>2097.00000</td>\n",
       "      <td>5346.000000</td>\n",
       "      <td>5902.000000</td>\n",
       "      <td>8321.000000</td>\n",
       "      <td>3249.000000</td>\n",
       "      <td>4851.000000</td>\n",
       "      <td>4067.000000</td>\n",
       "      <td>4639.000000</td>\n",
       "      <td>3067.000000</td>\n",
       "    </tr>\n",
       "    <tr>\n",
       "      <th>75%</th>\n",
       "      <td>9097.000000</td>\n",
       "      <td>2968.000000</td>\n",
       "      <td>3167.000000</td>\n",
       "      <td>2751.00000</td>\n",
       "      <td>6255.000000</td>\n",
       "      <td>6938.000000</td>\n",
       "      <td>10413.000000</td>\n",
       "      <td>4085.000000</td>\n",
       "      <td>6057.000000</td>\n",
       "      <td>5225.000000</td>\n",
       "      <td>5705.500000</td>\n",
       "      <td>3835.000000</td>\n",
       "    </tr>\n",
       "    <tr>\n",
       "      <th>max</th>\n",
       "      <td>12315.000000</td>\n",
       "      <td>4137.000000</td>\n",
       "      <td>4615.000000</td>\n",
       "      <td>4088.00000</td>\n",
       "      <td>8373.000000</td>\n",
       "      <td>9598.000000</td>\n",
       "      <td>15286.000000</td>\n",
       "      <td>5672.000000</td>\n",
       "      <td>8888.000000</td>\n",
       "      <td>7694.000000</td>\n",
       "      <td>8160.000000</td>\n",
       "      <td>5834.000000</td>\n",
       "    </tr>\n",
       "  </tbody>\n",
       "</table>\n",
       "</div>"
      ],
      "text/plain": [
       "       Auvergne-Rhone-Alpes  Bourgogne-Franche-Comte      Bretagne  \\\n",
       "count          17519.000000             17519.000000  17519.000000   \n",
       "mean            7717.750271              2535.014784   2613.741652   \n",
       "std             1708.200281               602.260387    705.329137   \n",
       "min             4101.000000              1177.000000   1225.000000   \n",
       "25%             6319.000000              2056.500000   2067.000000   \n",
       "50%             7499.000000              2503.000000   2505.000000   \n",
       "75%             9097.000000              2968.000000   3167.000000   \n",
       "max            12315.000000              4137.000000   4615.000000   \n",
       "\n",
       "       Centre-Val de Loire     Grand-Est  Hauts-de-France  Ile-de-France  \\\n",
       "count          17519.00000  17519.000000     17519.000000   17519.000000   \n",
       "mean            2247.02386   5427.153662      6043.343684    8642.616816   \n",
       "std              627.75084   1141.590972      1196.965309    2363.372858   \n",
       "min             1021.00000   2783.000000      3292.000000    4196.000000   \n",
       "25%             1748.50000   4532.000000      5122.000000    6832.000000   \n",
       "50%             2097.00000   5346.000000      5902.000000    8321.000000   \n",
       "75%             2751.00000   6255.000000      6938.000000   10413.000000   \n",
       "max             4088.00000   8373.000000      9598.000000   15286.000000   \n",
       "\n",
       "          Normandie  Nouvelle-Aquitaine     Occitanie          PACA  \\\n",
       "count  17519.000000        17519.000000  17519.000000  17519.000000   \n",
       "mean    3430.122324         5110.759005   4340.247902   4875.551059   \n",
       "std      805.721576         1216.823664   1142.174855   1032.661901   \n",
       "min     1869.000000         2817.000000   2214.000000   2943.000000   \n",
       "25%     2804.500000         4164.000000   3478.500000   4103.000000   \n",
       "50%     3249.000000         4851.000000   4067.000000   4639.000000   \n",
       "75%     4085.000000         6057.000000   5225.000000   5705.500000   \n",
       "max     5672.000000         8888.000000   7694.000000   8160.000000   \n",
       "\n",
       "       Pays-de-la-Loire  \n",
       "count      17519.000000  \n",
       "mean        3191.928306  \n",
       "std          863.558309  \n",
       "min         1434.000000  \n",
       "25%         2519.000000  \n",
       "50%         3067.000000  \n",
       "75%         3835.000000  \n",
       "max         5834.000000  "
      ]
     },
     "execution_count": 10,
     "metadata": {},
     "output_type": "execute_result"
    }
   ],
   "source": [
    "data_y.describe()"
   ]
  },
  {
   "cell_type": "code",
   "execution_count": 11,
   "metadata": {
    "collapsed": true
   },
   "outputs": [],
   "source": [
    "from datetime import datetime\n",
    "data_y.index = data_y.index.to_datetime()"
   ]
  },
  {
   "cell_type": "code",
   "execution_count": 12,
   "metadata": {
    "collapsed": false
   },
   "outputs": [
    {
     "data": {
      "text/plain": [
       "numpy.ndarray"
      ]
     },
     "execution_count": 12,
     "metadata": {},
     "output_type": "execute_result"
    }
   ],
   "source": [
    "type(data_y[data_y.columns[0]].values)"
   ]
  },
  {
   "cell_type": "code",
   "execution_count": 13,
   "metadata": {
    "collapsed": false
   },
   "outputs": [
    {
     "data": {
      "text/plain": [
       "DatetimeIndex(['2013-01-01 00:30:00', '2013-01-01 01:00:00',\n",
       "               '2013-01-01 01:30:00', '2013-01-01 02:00:00',\n",
       "               '2013-01-01 02:30:00', '2013-01-01 03:00:00',\n",
       "               '2013-01-01 03:30:00', '2013-01-01 04:00:00',\n",
       "               '2013-01-01 04:30:00', '2013-01-01 05:00:00',\n",
       "               ...\n",
       "               '2013-12-31 19:00:00', '2013-12-31 19:30:00',\n",
       "               '2013-12-31 20:00:00', '2013-12-31 20:30:00',\n",
       "               '2013-12-31 21:00:00', '2013-12-31 21:30:00',\n",
       "               '2013-12-31 22:00:00', '2013-12-31 22:30:00',\n",
       "               '2013-12-31 23:00:00', '2013-12-31 23:30:00'],\n",
       "              dtype='datetime64[ns]', length=17519, freq=None)"
      ]
     },
     "execution_count": 13,
     "metadata": {},
     "output_type": "execute_result"
    }
   ],
   "source": [
    "data_y.index"
   ]
  },
  {
   "cell_type": "code",
   "execution_count": 14,
   "metadata": {
    "collapsed": false
   },
   "outputs": [
    {
     "data": {
      "text/plain": [
       "17519"
      ]
     },
     "execution_count": 14,
     "metadata": {},
     "output_type": "execute_result"
    }
   ],
   "source": [
    "len(data_y[data_y.columns[0]].values)"
   ]
  },
  {
   "cell_type": "code",
   "execution_count": 15,
   "metadata": {
    "collapsed": false
   },
   "outputs": [
    {
     "data": {
      "text/plain": [
       "<matplotlib.axes._subplots.AxesSubplot at 0x7ff547f3c908>"
      ]
     },
     "execution_count": 15,
     "metadata": {},
     "output_type": "execute_result"
    },
    {
     "data": {
      "image/png": "[encoded data removed]",
      "text/plain": [
       "<matplotlib.figure.Figure at 0x7ff547f68908>"
      ]
     },
     "metadata": {},
     "output_type": "display_data"
    }
   ],
   "source": [
    "data_y[data_y.columns[0]].plot(figsize = (15, 7))"
   ]
  },
  {
   "cell_type": "code",
   "execution_count": 16,
   "metadata": {
    "collapsed": false
   },
   "outputs": [
    {
     "data": {
      "text/plain": [
       "<matplotlib.axes._subplots.AxesSubplot at 0x7ff547c3ed68>"
      ]
     },
     "execution_count": 16,
     "metadata": {},
     "output_type": "execute_result"
    },
    {
     "data": {
      "image/png": "[encoded data removed]",
      "text/plain": [
       "<matplotlib.figure.Figure at 0x7ff54b81f5f8>"
      ]
     },
     "metadata": {},
     "output_type": "display_data"
    }
   ],
   "source": [
    "data_y[data_y.columns[0]].plot(kind = 'hist', bins = 100, figsize = (15, 7))"
   ]
  },
  {
   "cell_type": "code",
   "execution_count": 17,
   "metadata": {
    "collapsed": false
   },
   "outputs": [
    {
     "data": {
      "text/plain": [
       "<matplotlib.axes._subplots.AxesSubplot at 0x7ff54793a6d8>"
      ]
     },
     "execution_count": 17,
     "metadata": {},
     "output_type": "execute_result"
    },
    {
     "data": {
      "image/png": "[encoded data removed]",
      "text/plain": [
       "<matplotlib.figure.Figure at 0x7ff547933668>"
      ]
     },
     "metadata": {},
     "output_type": "display_data"
    }
   ],
   "source": [
    "data_y[data_y.columns[0]].plot(kind = 'kde',  \n",
    "                               figsize = (15, 7), \n",
    "                               xlim = (4000, 13000) )\n"
   ]
  },
  {
   "cell_type": "code",
   "execution_count": null,
   "metadata": {
    "collapsed": true
   },
   "outputs": [],
   "source": []
  }
 ],
 "metadata": {
  "kernelspec": {
   "display_name": "Python 3",
   "language": "python",
   "name": "python3"
  },
  "language_info": {
   "codemirror_mode": {
    "name": "ipython",
    "version": 3
   },
   "file_extension": ".py",
   "mimetype": "text/x-python",
   "name": "python",
   "nbconvert_exporter": "python",
   "pygments_lexer": "ipython3",
   "version": "3.5.2+"
  }
 },
 "nbformat": 4,
 "nbformat_minor": 2
}
