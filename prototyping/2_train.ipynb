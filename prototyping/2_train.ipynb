{
 "cells": [
  {
   "cell_type": "code",
   "execution_count": null,
   "metadata": {},
   "outputs": [],
   "source": [
    "import pandas as pd\n",
    "import numpy as np\n",
    "import keras"
   ]
  },
  {
   "cell_type": "code",
   "execution_count": null,
   "metadata": {},
   "outputs": [],
   "source": [
    "data_x = pd.read_csv('./data/weather/v3/2013/merged/merged_2013_h0.csv', index_col = 'Time')\n",
    "x = data_x[data_x.columns[0:2]]\n",
    "data_y = pd.read_csv('./data/energy/v5/2013/Consumption_2013.csv', index_col = 'Time')\n",
    "data = x.copy()\n",
    "data['cons'] = data_y['Auvergne-Rhone-Alpes']\n",
    "\n",
    "\n",
    "data = data.values\n",
    "data = np.delete(data, (0), axis=0)\n"
   ]
  },
  {
   "cell_type": "code",
   "execution_count": null,
   "metadata": {},
   "outputs": [],
   "source": [
    "from sklearn.preprocessing import scale\n",
    "\n",
    "data = scale( data, axis=0, with_mean=True, with_std=False, copy=True )\n",
    "data"
   ]
  },
  {
   "cell_type": "code",
   "execution_count": null,
   "metadata": {},
   "outputs": [],
   "source": [
    "x_data = data[:, 0:2]\n",
    "y_data = data[:, 2]\n",
    "x_data.shape\n"
   ]
  },
  {
   "cell_type": "code",
   "execution_count": null,
   "metadata": {
    "collapsed": true
   },
   "outputs": [],
   "source": [
    "import tensorflow as tf"
   ]
  },
  {
   "cell_type": "code",
   "execution_count": null,
   "metadata": {},
   "outputs": [],
   "source": [
    "#x_data = np.reshape(x_data, (x_data.shape[0], 1, x_data.shape[1]))\n",
    "#x_data = np.reshape(x_data, (x_data.shape[0], x_data.shape[1], 1))\n",
    "\n",
    "\n",
    "seq_len = 50\n",
    "def load_data(data, n_prev = seq_len):  \n",
    "\n",
    "    docX, docY = [], []\n",
    "    for i in range(len(data)-n_prev):\n",
    "        docX.append(data[i:i+n_prev, 0:2])\n",
    "        docY.append(data[i+n_prev, 2])\n",
    "    alsX = np.array(docX)\n",
    "    alsY = np.array(docY)\n",
    "\n",
    "    return alsX, alsY\n",
    "\n",
    "x_data, y_data = load_data(data)"
   ]
  },
  {
   "cell_type": "code",
   "execution_count": null,
   "metadata": {},
   "outputs": [],
   "source": [
    "print(x_data.shape)\n",
    "print(y_data.shape)"
   ]
  },
  {
   "cell_type": "code",
   "execution_count": null,
   "metadata": {
    "collapsed": true
   },
   "outputs": [],
   "source": []
  },
  {
   "cell_type": "code",
   "execution_count": null,
   "metadata": {},
   "outputs": [],
   "source": [
    "from keras.layers.core import Dense, Activation, Dropout\n",
    "from keras.layers.recurrent import LSTM\n",
    "from keras.layers.convolutional import Conv1D\n",
    "from keras.models import Sequential\n",
    "import time\n",
    "\n",
    "def build_model(features, seq_len, out):\n",
    "    model = Sequential()\n",
    "\n",
    "    model.add(LSTM(20, input_shape = (seq_len, features), return_sequences=True))\n",
    "    #model.add(Dropout(0.2))\n",
    "    \n",
    "    model.add(LSTM(10,return_sequences = False))\n",
    "    #model.add(Dropout(0.2))\n",
    "\n",
    "    model.add(Dense(units = out))\n",
    "    #model.add(Activation(\"linear\"))\n",
    "\n",
    "    start = time.time()\n",
    "    model.compile(loss = \"mse\", optimizer = \"adam\")\n",
    "    print(\"> Compilation Time : \", time.time() - start)\n",
    "    return model"
   ]
  },
  {
   "cell_type": "code",
   "execution_count": null,
   "metadata": {},
   "outputs": [],
   "source": [
    "model = build_model(features = 2, seq_len = seq_len, out = 1)\n",
    "model.summary()"
   ]
  },
  {
   "cell_type": "code",
   "execution_count": null,
   "metadata": {
    "collapsed": true
   },
   "outputs": [],
   "source": [
    "tbCallBack = keras.callbacks.TensorBoard(log_dir ='./logs/', \n",
    "                                         histogram_freq = 0, \n",
    "                                         write_graph = True)\n",
    "filepath = \"best_model.hdf5\"\n",
    "best_model = keras.callbacks.ModelCheckpoint(filepath = filepath, \n",
    "                                             monitor = 'val_loss', \n",
    "                                             verbose = 1, \n",
    "                                             save_best_only = True, \n",
    "                                             save_weights_only = False, \n",
    "                                             mode = 'auto', period = 1)"
   ]
  },
  {
   "cell_type": "code",
   "execution_count": null,
   "metadata": {},
   "outputs": [],
   "source": [
    "model.fit(\n",
    "    x_data,\n",
    "    y_data,\n",
    "    batch_size = 250,\n",
    "    epochs = 1200,\n",
    "    validation_split = 0.05,\n",
    "    callbacks = [best_model, tbCallBack])"
   ]
  },
  {
   "cell_type": "code",
   "execution_count": null,
   "metadata": {},
   "outputs": [],
   "source": []
  },
  {
   "cell_type": "code",
   "execution_count": null,
   "metadata": {
    "collapsed": true
   },
   "outputs": [],
   "source": []
  }
 ],
 "metadata": {
  "kernelspec": {
   "display_name": "Python 3",
   "language": "python",
   "name": "python3"
  },
  "language_info": {
   "codemirror_mode": {
    "name": "ipython",
    "version": 3
   },
   "file_extension": ".py",
   "mimetype": "text/x-python",
   "name": "python",
   "nbconvert_exporter": "python",
   "pygments_lexer": "ipython3",
   "version": "3.5.2"
  }
 },
 "nbformat": 4,
 "nbformat_minor": 2
}
