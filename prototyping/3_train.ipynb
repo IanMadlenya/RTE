{
 "cells": [
  {
   "cell_type": "code",
   "execution_count": 1,
   "metadata": {},
   "outputs": [
    {
     "name": "stderr",
     "output_type": "stream",
     "text": [
      "Using TensorFlow backend.\n"
     ]
    },
    {
     "data": {
      "text/plain": [
       "Index(['temperature-002', 'cloudiness-002', 'temperature-005',\n",
       "       'cloudiness-005', 'temperature-015', 'cloudiness-015',\n",
       "       'temperature-027', 'cloudiness-027', 'temperature-070',\n",
       "       'cloudiness-070', 'temperature-110', 'cloudiness-110',\n",
       "       'temperature-120', 'cloudiness-120', 'temperature-130',\n",
       "       'cloudiness-130', 'temperature-145', 'cloudiness-145',\n",
       "       'temperature-149', 'cloudiness-149', 'temperature-156',\n",
       "       'cloudiness-156', 'temperature-168', 'cloudiness-168',\n",
       "       'temperature-180', 'cloudiness-180', 'temperature-190',\n",
       "       'cloudiness-190', 'temperature-222', 'cloudiness-222',\n",
       "       'temperature-240', 'cloudiness-240', 'temperature-255',\n",
       "       'cloudiness-255', 'temperature-260', 'cloudiness-260',\n",
       "       'temperature-280', 'cloudiness-280', 'temperature-299',\n",
       "       'cloudiness-299', 'temperature-434', 'cloudiness-434',\n",
       "       'temperature-460', 'cloudiness-460', 'temperature-481',\n",
       "       'cloudiness-481', 'temperature-497', 'cloudiness-497',\n",
       "       'temperature-510', 'cloudiness-510', 'temperature-579',\n",
       "       'cloudiness-579', 'temperature-588', 'cloudiness-588',\n",
       "       'temperature-621', 'cloudiness-621', 'temperature-630',\n",
       "       'cloudiness-630', 'temperature-643', 'cloudiness-643',\n",
       "       'temperature-645', 'cloudiness-645', 'temperature-650',\n",
       "       'cloudiness-650', 'temperature-675', 'cloudiness-675',\n",
       "       'temperature-690', 'cloudiness-690', 'temperature-747',\n",
       "       'cloudiness-747'],\n",
       "      dtype='object')"
      ]
     },
     "execution_count": 1,
     "metadata": {},
     "output_type": "execute_result"
    }
   ],
   "source": [
    "import pandas as pd\n",
    "import numpy as np\n",
    "import keras\n",
    "from build_model import build_model\n",
    "\n",
    "data_x = pd.read_csv('./data/weather/v3/2013/merged/merged_2013_h0.csv', index_col = 'Time')\n",
    "data_x.columns"
   ]
  },
  {
   "cell_type": "code",
   "execution_count": 2,
   "metadata": {
    "collapsed": true
   },
   "outputs": [],
   "source": [
    "x = data_x[['temperature-460', 'cloudiness-460',\n",
    "            'temperature-481', 'cloudiness-481',\n",
    "            'temperature-645', 'cloudiness-645',]]"
   ]
  },
  {
   "cell_type": "code",
   "execution_count": 3,
   "metadata": {},
   "outputs": [
    {
     "data": {
      "text/html": [
       "<div>\n",
       "<style>\n",
       "    .dataframe thead tr:only-child th {\n",
       "        text-align: right;\n",
       "    }\n",
       "\n",
       "    .dataframe thead th {\n",
       "        text-align: left;\n",
       "    }\n",
       "\n",
       "    .dataframe tbody tr th {\n",
       "        vertical-align: top;\n",
       "    }\n",
       "</style>\n",
       "<table border=\"1\" class=\"dataframe\">\n",
       "  <thead>\n",
       "    <tr style=\"text-align: right;\">\n",
       "      <th></th>\n",
       "      <th>temperature-460</th>\n",
       "      <th>cloudiness-460</th>\n",
       "      <th>temperature-481</th>\n",
       "      <th>cloudiness-481</th>\n",
       "      <th>temperature-645</th>\n",
       "      <th>cloudiness-645</th>\n",
       "      <th>cons</th>\n",
       "    </tr>\n",
       "    <tr>\n",
       "      <th>Time</th>\n",
       "      <th></th>\n",
       "      <th></th>\n",
       "      <th></th>\n",
       "      <th></th>\n",
       "      <th></th>\n",
       "      <th></th>\n",
       "      <th></th>\n",
       "    </tr>\n",
       "  </thead>\n",
       "  <tbody>\n",
       "    <tr>\n",
       "      <th>2013-01-01 00:00:00</th>\n",
       "      <td>8.2</td>\n",
       "      <td>8</td>\n",
       "      <td>9.5</td>\n",
       "      <td>4</td>\n",
       "      <td>7.1</td>\n",
       "      <td>7</td>\n",
       "      <td>ND</td>\n",
       "    </tr>\n",
       "    <tr>\n",
       "      <th>2013-01-01 01:00:00</th>\n",
       "      <td>8.4</td>\n",
       "      <td>8</td>\n",
       "      <td>9.5</td>\n",
       "      <td>5</td>\n",
       "      <td>7.1</td>\n",
       "      <td>7</td>\n",
       "      <td>7944</td>\n",
       "    </tr>\n",
       "    <tr>\n",
       "      <th>2013-01-01 02:00:00</th>\n",
       "      <td>8.3</td>\n",
       "      <td>8</td>\n",
       "      <td>9.6</td>\n",
       "      <td>7</td>\n",
       "      <td>7.4</td>\n",
       "      <td>8</td>\n",
       "      <td>7882</td>\n",
       "    </tr>\n",
       "    <tr>\n",
       "      <th>2013-01-01 03:00:00</th>\n",
       "      <td>8.6</td>\n",
       "      <td>8</td>\n",
       "      <td>9.5</td>\n",
       "      <td>7</td>\n",
       "      <td>7.6</td>\n",
       "      <td>6</td>\n",
       "      <td>7709</td>\n",
       "    </tr>\n",
       "    <tr>\n",
       "      <th>2013-01-01 04:00:00</th>\n",
       "      <td>8.5</td>\n",
       "      <td>8</td>\n",
       "      <td>9.5</td>\n",
       "      <td>8</td>\n",
       "      <td>8.0</td>\n",
       "      <td>7</td>\n",
       "      <td>7383</td>\n",
       "    </tr>\n",
       "  </tbody>\n",
       "</table>\n",
       "</div>"
      ],
      "text/plain": [
       "                     temperature-460  cloudiness-460  temperature-481  \\\n",
       "Time                                                                    \n",
       "2013-01-01 00:00:00              8.2               8              9.5   \n",
       "2013-01-01 01:00:00              8.4               8              9.5   \n",
       "2013-01-01 02:00:00              8.3               8              9.6   \n",
       "2013-01-01 03:00:00              8.6               8              9.5   \n",
       "2013-01-01 04:00:00              8.5               8              9.5   \n",
       "\n",
       "                     cloudiness-481  temperature-645  cloudiness-645  cons  \n",
       "Time                                                                        \n",
       "2013-01-01 00:00:00               4              7.1               7    ND  \n",
       "2013-01-01 01:00:00               5              7.1               7  7944  \n",
       "2013-01-01 02:00:00               7              7.4               8  7882  \n",
       "2013-01-01 03:00:00               7              7.6               6  7709  \n",
       "2013-01-01 04:00:00               8              8.0               7  7383  "
      ]
     },
     "execution_count": 3,
     "metadata": {},
     "output_type": "execute_result"
    }
   ],
   "source": [
    "data_y = pd.read_csv('./data/energy/v5/2013/Consumption_2013.csv', index_col = 'Time')\n",
    "data = x.copy()\n",
    "data['cons'] = data_y['Auvergne-Rhone-Alpes']\n",
    "data.head()"
   ]
  },
  {
   "cell_type": "code",
   "execution_count": 4,
   "metadata": {
    "collapsed": true
   },
   "outputs": [],
   "source": [
    "data.drop(data.index[0], inplace = True)"
   ]
  },
  {
   "cell_type": "code",
   "execution_count": 5,
   "metadata": {},
   "outputs": [
    {
     "data": {
      "text/html": [
       "<div>\n",
       "<style>\n",
       "    .dataframe thead tr:only-child th {\n",
       "        text-align: right;\n",
       "    }\n",
       "\n",
       "    .dataframe thead th {\n",
       "        text-align: left;\n",
       "    }\n",
       "\n",
       "    .dataframe tbody tr th {\n",
       "        vertical-align: top;\n",
       "    }\n",
       "</style>\n",
       "<table border=\"1\" class=\"dataframe\">\n",
       "  <thead>\n",
       "    <tr style=\"text-align: right;\">\n",
       "      <th></th>\n",
       "      <th>temperature-460</th>\n",
       "      <th>cloudiness-460</th>\n",
       "      <th>temperature-481</th>\n",
       "      <th>cloudiness-481</th>\n",
       "      <th>temperature-645</th>\n",
       "      <th>cloudiness-645</th>\n",
       "      <th>cons</th>\n",
       "    </tr>\n",
       "    <tr>\n",
       "      <th>Time</th>\n",
       "      <th></th>\n",
       "      <th></th>\n",
       "      <th></th>\n",
       "      <th></th>\n",
       "      <th></th>\n",
       "      <th></th>\n",
       "      <th></th>\n",
       "    </tr>\n",
       "  </thead>\n",
       "  <tbody>\n",
       "    <tr>\n",
       "      <th>2013-01-01 01:00:00</th>\n",
       "      <td>8.4</td>\n",
       "      <td>8</td>\n",
       "      <td>9.5</td>\n",
       "      <td>5</td>\n",
       "      <td>7.1</td>\n",
       "      <td>7</td>\n",
       "      <td>7944</td>\n",
       "    </tr>\n",
       "    <tr>\n",
       "      <th>2013-01-01 02:00:00</th>\n",
       "      <td>8.3</td>\n",
       "      <td>8</td>\n",
       "      <td>9.6</td>\n",
       "      <td>7</td>\n",
       "      <td>7.4</td>\n",
       "      <td>8</td>\n",
       "      <td>7882</td>\n",
       "    </tr>\n",
       "    <tr>\n",
       "      <th>2013-01-01 03:00:00</th>\n",
       "      <td>8.6</td>\n",
       "      <td>8</td>\n",
       "      <td>9.5</td>\n",
       "      <td>7</td>\n",
       "      <td>7.6</td>\n",
       "      <td>6</td>\n",
       "      <td>7709</td>\n",
       "    </tr>\n",
       "    <tr>\n",
       "      <th>2013-01-01 04:00:00</th>\n",
       "      <td>8.5</td>\n",
       "      <td>8</td>\n",
       "      <td>9.5</td>\n",
       "      <td>8</td>\n",
       "      <td>8.0</td>\n",
       "      <td>7</td>\n",
       "      <td>7383</td>\n",
       "    </tr>\n",
       "    <tr>\n",
       "      <th>2013-01-01 05:00:00</th>\n",
       "      <td>8.5</td>\n",
       "      <td>7</td>\n",
       "      <td>9.4</td>\n",
       "      <td>8</td>\n",
       "      <td>7.9</td>\n",
       "      <td>7</td>\n",
       "      <td>7158</td>\n",
       "    </tr>\n",
       "  </tbody>\n",
       "</table>\n",
       "</div>"
      ],
      "text/plain": [
       "                     temperature-460  cloudiness-460  temperature-481  \\\n",
       "Time                                                                    \n",
       "2013-01-01 01:00:00              8.4               8              9.5   \n",
       "2013-01-01 02:00:00              8.3               8              9.6   \n",
       "2013-01-01 03:00:00              8.6               8              9.5   \n",
       "2013-01-01 04:00:00              8.5               8              9.5   \n",
       "2013-01-01 05:00:00              8.5               7              9.4   \n",
       "\n",
       "                     cloudiness-481  temperature-645  cloudiness-645  cons  \n",
       "Time                                                                        \n",
       "2013-01-01 01:00:00               5              7.1               7  7944  \n",
       "2013-01-01 02:00:00               7              7.4               8  7882  \n",
       "2013-01-01 03:00:00               7              7.6               6  7709  \n",
       "2013-01-01 04:00:00               8              8.0               7  7383  \n",
       "2013-01-01 05:00:00               8              7.9               7  7158  "
      ]
     },
     "execution_count": 5,
     "metadata": {},
     "output_type": "execute_result"
    }
   ],
   "source": [
    "data.head()"
   ]
  },
  {
   "cell_type": "code",
   "execution_count": 6,
   "metadata": {},
   "outputs": [
    {
     "data": {
      "text/plain": [
       "False"
      ]
     },
     "execution_count": 6,
     "metadata": {},
     "output_type": "execute_result"
    }
   ],
   "source": [
    "data.isnull().values.any()"
   ]
  },
  {
   "cell_type": "code",
   "execution_count": 7,
   "metadata": {},
   "outputs": [
    {
     "data": {
      "text/plain": [
       "temperature-460    0\n",
       "cloudiness-460     0\n",
       "temperature-481    0\n",
       "cloudiness-481     0\n",
       "temperature-645    0\n",
       "cloudiness-645     0\n",
       "cons               0\n",
       "dtype: int64"
      ]
     },
     "execution_count": 7,
     "metadata": {},
     "output_type": "execute_result"
    }
   ],
   "source": [
    "data.isnull().sum()"
   ]
  },
  {
   "cell_type": "code",
   "execution_count": null,
   "metadata": {
    "collapsed": true
   },
   "outputs": [],
   "source": [
    "from sklearn.preprocessing import MinMaxScaler\n",
    "scaler = MinMaxScaler()\n",
    "data = scaler.fit_transform(data)"
   ]
  },
  {
   "cell_type": "code",
   "execution_count": null,
   "metadata": {
    "collapsed": true
   },
   "outputs": [],
   "source": [
    "data = pd.DataFrame(data)\n",
    "data.head()"
   ]
  },
  {
   "cell_type": "code",
   "execution_count": null,
   "metadata": {
    "collapsed": true
   },
   "outputs": [],
   "source": [
    "data = data.values\n",
    "\n",
    "'''\n",
    "from sklearn.preprocessing import scale\n",
    "\n",
    "data = scale( data, axis=0, with_mean=True, with_std=False, copy=True )\n",
    "data.head()\n",
    "'''\n",
    "\n",
    "x_data = data[:, 0:6]\n",
    "y_data = data[:, 6]\n",
    "x_data.shape\n",
    "\n",
    "\n",
    "import tensorflow as tf"
   ]
  },
  {
   "cell_type": "code",
   "execution_count": null,
   "metadata": {
    "collapsed": true
   },
   "outputs": [],
   "source": [
    "seq_len = 1000\n",
    "def data_to_sequence(data, n_prev = seq_len):  \n",
    "\n",
    "    docX, docY = [], []\n",
    "    for i in range(len(data)-n_prev):\n",
    "        docX.append(data[i:i+n_prev, 0:6])\n",
    "        docY.append(data[i+n_prev, 6])\n",
    "    alsX = np.array(docX)\n",
    "    alsY = np.array(docY)\n",
    "\n",
    "    return alsX, alsY\n",
    "\n",
    "x_data, y_data = data_to_sequence(data)\n",
    "\n",
    "print(x_data.shape)\n",
    "print(y_data.shape)"
   ]
  },
  {
   "cell_type": "code",
   "execution_count": null,
   "metadata": {
    "collapsed": true
   },
   "outputs": [],
   "source": [
    "model = build_model(features = 6, seq_len = seq_len, out = 1)\n",
    "model.summary()"
   ]
  },
  {
   "cell_type": "code",
   "execution_count": null,
   "metadata": {
    "collapsed": true
   },
   "outputs": [],
   "source": [
    "from keras.callbacks import TensorBoard , ModelCheckpoint, ReduceLROnPlateau\n",
    "\n",
    "\n",
    "tbCallBack = TensorBoard(log_dir ='./logs/', \n",
    "                         histogram_freq = 0, \n",
    "                         write_graph = True)\n",
    "\n",
    "filepath = \"best_model.hdf5\"\n",
    "best_model = ModelCheckpoint(filepath = filepath, \n",
    "                             monitor = 'val_loss', \n",
    "                             verbose = 1, \n",
    "                             save_best_only = True, \n",
    "                             save_weights_only = False, \n",
    "                             mode = 'auto', period = 1)\n",
    "\n",
    "\n",
    "reduce_lr = ReduceLROnPlateau(monitor = 'val_loss', factor = 0.5, patience = 2)"
   ]
  },
  {
   "cell_type": "code",
   "execution_count": null,
   "metadata": {
    "collapsed": true
   },
   "outputs": [],
   "source": [
    "model.fit(x_data,\n",
    "          y_data,\n",
    "          batch_size = 100,\n",
    "          epochs = 800,\n",
    "          validation_split = 0.05,\n",
    "          callbacks = [best_model, tbCallBack, reduce_lr])\n"
   ]
  },
  {
   "cell_type": "code",
   "execution_count": null,
   "metadata": {
    "collapsed": true
   },
   "outputs": [],
   "source": []
  }
 ],
 "metadata": {
  "kernelspec": {
   "display_name": "Python 3",
   "language": "python",
   "name": "python3"
  },
  "language_info": {
   "codemirror_mode": {
    "name": "ipython",
    "version": 3
   },
   "file_extension": ".py",
   "mimetype": "text/x-python",
   "name": "python",
   "nbconvert_exporter": "python",
   "pygments_lexer": "ipython3",
   "version": "3.5.2"
  }
 },
 "nbformat": 4,
 "nbformat_minor": 2
}
