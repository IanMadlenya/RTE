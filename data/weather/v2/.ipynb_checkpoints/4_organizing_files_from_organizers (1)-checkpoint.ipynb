{
 "cells": [
  {
   "cell_type": "code",
   "execution_count": 1,
   "metadata": {},
   "outputs": [],
   "source": [
    "import pandas as pd\n",
    "import glob, os\n",
    "from tqdm import tqdm\n",
    "directory = \"./data_as_csv/2013/\" \n",
    "os.chdir(directory)\n",
    "all_files = glob.glob(\"*csv\")"
   ]
  },
  {
   "cell_type": "code",
   "execution_count": 2,
   "metadata": {
    "collapsed": true
   },
   "outputs": [],
   "source": [
    "filename = all_files[0]"
   ]
  },
  {
   "cell_type": "code",
   "execution_count": 3,
   "metadata": {},
   "outputs": [],
   "source": [
    "data = pd.read_csv(filename, usecols = ['station', 'date.validite', 'temperature', 'nebulosite'])\n",
    "data.columns = ['station','Time', 'temperature', 'cloudiness']\n",
    "\n",
    "data.index = data['Time'] \n",
    "\n",
    "stations = [2, 5, 15, 27, 70, 110, 120, 130, 145, 149, 156,\n",
    "            168, 180, 190, 222, 240, 255, 260, 280, 299, 434,\n",
    "            460, 481, 497, 510, 579, 588, 621, 630, 643, 645,\n",
    "            650, 675, 690, 747]\n",
    "\n",
    "weather_data = pd.DataFrame()\n",
    "\n",
    "for station in tqdm(stations): \n",
    "    temp = data.loc[data['station'] == station]\n",
    "    temperature_index = 'temperature-' + str(station)\n",
    "    cloudiness_index = 'cloudiness-' + str(station)\n",
    "    weather_data[temperature_index] = temp['temperature']\n",
    "    weather_data[cloudiness_index] = temp['cloudiness']\n",
    "    \n",
    "current_weather = pd.DataFrame(columns = weather_data.columns)\n",
    "current_weather = weather_data.loc[weather_data.index[5]:weather_data.index[6]]\n",
    "current_weather.drop(current_weather.index[1], inplace = True)\n",
    "print(current_weather)"
   ]
  }
 ],
 "metadata": {
  "kernelspec": {
   "display_name": "Python 3",
   "language": "python",
   "name": "python3"
  },
  "language_info": {
   "codemirror_mode": {
    "name": "ipython",
    "version": 3
   },
   "file_extension": ".py",
   "mimetype": "text/x-python",
   "name": "python",
   "nbconvert_exporter": "python",
   "pygments_lexer": "ipython3",
   "version": "3.5.2"
  }
 },
 "nbformat": 4,
 "nbformat_minor": 2
}
