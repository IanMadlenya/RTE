{
 "cells": [
  {
   "cell_type": "code",
   "execution_count": null,
   "metadata": {},
   "outputs": [],
   "source": [
    "import pandas as pd\n",
    "import glob, os\n",
    "from tqdm import tqdm\n",
    "directory = \"./data_as_csv/2013/\" \n",
    "os.chdir(directory)\n",
    "print(glob.glob(\"*csv\"))"
   ]
  },
  {
   "cell_type": "code",
   "execution_count": null,
   "metadata": {
    "collapsed": true
   },
   "outputs": [],
   "source": [
    "all_files = glob.glob(\"*csv\")"
   ]
  },
  {
   "cell_type": "code",
   "execution_count": null,
   "metadata": {},
   "outputs": [],
   "source": [
    "all_files[38]"
   ]
  },
  {
   "cell_type": "code",
   "execution_count": null,
   "metadata": {
    "collapsed": true
   },
   "outputs": [],
   "source": [
    "stations = [2, 5, 15, 27, 70, 110, 120, 130, 145, 149, 156,\n",
    "            168, 180, 190, 222, 240, 255, 260, 280, 299, 434,\n",
    "            460, 481, 497, 510, 579, 588, 621, 630, 643, 645,\n",
    "            650, 675, 690, 747]"
   ]
  },
  {
   "cell_type": "code",
   "execution_count": null,
   "metadata": {
    "collapsed": true
   },
   "outputs": [],
   "source": [
    "error_files = []"
   ]
  },
  {
   "cell_type": "code",
   "execution_count": null,
   "metadata": {},
   "outputs": [],
   "source": [
    "for file in tqdm(all_files):\n",
    "    try:\n",
    "        data = pd.read_csv(file, usecols = ['station', 'date.validite', 'temperature', 'nebulosite'])\n",
    "        data.columns = ['station','Time', 'temperature', 'cloudiness']\n",
    "        # data.head()\n",
    "        weather_data = pd.DataFrame()\n",
    "        for station in stations: \n",
    "            temp = data.loc[data['station'] == station]\n",
    "            temperature_index = 'temperature-' + str(station)\n",
    "            cloudiness_index = 'cloudiness-' + str(station)\n",
    "            weather_data[temperature_index] = temp['temperature']\n",
    "            weather_data[cloudiness_index] = temp['cloudiness']\n",
    "\n",
    "        current_weather = pd.DataFrame(columns = weather_data.columns)\n",
    "        current_weather = weather_data.loc[weather_data.index[5]]\n",
    "        #current_weather.drop(current_weather.index[1], inplace = True)\n",
    "        current_weather.to_csv(file)\n",
    "        #weather_data.to_csv(file)\n",
    "        #print(file)\n",
    "    except:\n",
    "        print('Error with file: ' +  file)\n",
    "        error_files.append(file)"
   ]
  },
  {
   "cell_type": "code",
   "execution_count": null,
   "metadata": {
    "collapsed": true
   },
   "outputs": [],
   "source": []
  }
 ],
 "metadata": {
  "kernelspec": {
   "display_name": "Python 3",
   "language": "python",
   "name": "python3"
  },
  "language_info": {
   "codemirror_mode": {
    "name": "ipython",
    "version": 3
   },
   "file_extension": ".py",
   "mimetype": "text/x-python",
   "name": "python",
   "nbconvert_exporter": "python",
   "pygments_lexer": "ipython3",
   "version": "3.5.2"
  }
 },
 "nbformat": 4,
 "nbformat_minor": 2
}
