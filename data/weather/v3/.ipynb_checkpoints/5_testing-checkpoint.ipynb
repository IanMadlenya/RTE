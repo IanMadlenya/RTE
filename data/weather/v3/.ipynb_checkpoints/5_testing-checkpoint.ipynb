{
 "cells": [
  {
   "cell_type": "code",
   "execution_count": 1,
   "metadata": {
    "collapsed": true
   },
   "outputs": [],
   "source": [
    "import pandas as pd\n",
    "import glob, os\n",
    "from tqdm import tqdm\n",
    "directory = \"./2013/\" \n",
    "os.chdir(directory)\n",
    "#print(glob.glob(\"*csv\"))"
   ]
  },
  {
   "cell_type": "code",
   "execution_count": 2,
   "metadata": {},
   "outputs": [
    {
     "data": {
      "text/plain": [
       "8758"
      ]
     },
     "execution_count": 2,
     "metadata": {},
     "output_type": "execute_result"
    }
   ],
   "source": [
    "all_files = glob.glob(\"*csv\")\n",
    "len(all_files)"
   ]
  },
  {
   "cell_type": "code",
   "execution_count": 3,
   "metadata": {},
   "outputs": [
    {
     "data": {
      "text/plain": [
       "'P4503501.201306290800 .csv'"
      ]
     },
     "execution_count": 3,
     "metadata": {},
     "output_type": "execute_result"
    }
   ],
   "source": [
    "all_files[0]"
   ]
  },
  {
   "cell_type": "code",
   "execution_count": 4,
   "metadata": {},
   "outputs": [
    {
     "data": {
      "text/html": [
       "<div>\n",
       "<style>\n",
       "    .dataframe thead tr:only-child th {\n",
       "        text-align: right;\n",
       "    }\n",
       "\n",
       "    .dataframe thead th {\n",
       "        text-align: left;\n",
       "    }\n",
       "\n",
       "    .dataframe tbody tr th {\n",
       "        vertical-align: top;\n",
       "    }\n",
       "</style>\n",
       "<table border=\"1\" class=\"dataframe\">\n",
       "  <thead>\n",
       "    <tr style=\"text-align: right;\">\n",
       "      <th></th>\n",
       "      <th>Time</th>\n",
       "      <th>temperature-2</th>\n",
       "      <th>cloudiness-2</th>\n",
       "      <th>temperature-5</th>\n",
       "      <th>cloudiness-5</th>\n",
       "      <th>temperature-15</th>\n",
       "      <th>cloudiness-15</th>\n",
       "      <th>temperature-27</th>\n",
       "      <th>cloudiness-27</th>\n",
       "      <th>temperature-70</th>\n",
       "      <th>...</th>\n",
       "      <th>temperature-645</th>\n",
       "      <th>cloudiness-645</th>\n",
       "      <th>temperature-650</th>\n",
       "      <th>cloudiness-650</th>\n",
       "      <th>temperature-675</th>\n",
       "      <th>cloudiness-675</th>\n",
       "      <th>temperature-690</th>\n",
       "      <th>cloudiness-690</th>\n",
       "      <th>temperature-747</th>\n",
       "      <th>cloudiness-747</th>\n",
       "    </tr>\n",
       "  </thead>\n",
       "  <tbody>\n",
       "  </tbody>\n",
       "</table>\n",
       "<p>0 rows × 71 columns</p>\n",
       "</div>"
      ],
      "text/plain": [
       "Empty DataFrame\n",
       "Columns: [Time, temperature-2, cloudiness-2, temperature-5, cloudiness-5, temperature-15, cloudiness-15, temperature-27, cloudiness-27, temperature-70, cloudiness-70, temperature-110, cloudiness-110, temperature-120, cloudiness-120, temperature-130, cloudiness-130, temperature-145, cloudiness-145, temperature-149, cloudiness-149, temperature-156, cloudiness-156, temperature-168, cloudiness-168, temperature-180, cloudiness-180, temperature-190, cloudiness-190, temperature-222, cloudiness-222, temperature-240, cloudiness-240, temperature-255, cloudiness-255, temperature-260, cloudiness-260, temperature-280, cloudiness-280, temperature-299, cloudiness-299, temperature-434, cloudiness-434, temperature-460, cloudiness-460, temperature-481, cloudiness-481, temperature-497, cloudiness-497, temperature-510, cloudiness-510, temperature-579, cloudiness-579, temperature-588, cloudiness-588, temperature-621, cloudiness-621, temperature-630, cloudiness-630, temperature-643, cloudiness-643, temperature-645, cloudiness-645, temperature-650, cloudiness-650, temperature-675, cloudiness-675, temperature-690, cloudiness-690, temperature-747, cloudiness-747]\n",
       "Index: []\n",
       "\n",
       "[0 rows x 71 columns]"
      ]
     },
     "execution_count": 4,
     "metadata": {},
     "output_type": "execute_result"
    }
   ],
   "source": [
    "file1 = 'P4503501.201301180800 .csv'\n",
    "data1 = pd.read_csv(file1)\n",
    "data1.head()"
   ]
  },
  {
   "cell_type": "code",
   "execution_count": null,
   "metadata": {
    "collapsed": true
   },
   "outputs": [],
   "source": [
    "file2 = all_files[1] \n",
    "data2 = pd.read_csv(file2)\n",
    "data2 = data2.loc[data2.index[5]:data2.index[5]]\n"
   ]
  },
  {
   "cell_type": "code",
   "execution_count": null,
   "metadata": {
    "collapsed": true
   },
   "outputs": [],
   "source": [
    "together = pd.concat([data1, data2])"
   ]
  },
  {
   "cell_type": "code",
   "execution_count": null,
   "metadata": {
    "collapsed": true
   },
   "outputs": [],
   "source": [
    "together"
   ]
  },
  {
   "cell_type": "code",
   "execution_count": null,
   "metadata": {
    "collapsed": true
   },
   "outputs": [],
   "source": [
    "together = pd.concat([together, data2])"
   ]
  },
  {
   "cell_type": "code",
   "execution_count": null,
   "metadata": {
    "collapsed": true
   },
   "outputs": [],
   "source": [
    "together"
   ]
  },
  {
   "cell_type": "code",
   "execution_count": null,
   "metadata": {
    "collapsed": true
   },
   "outputs": [],
   "source": [
    "together.index = together['Time']"
   ]
  },
  {
   "cell_type": "code",
   "execution_count": null,
   "metadata": {
    "collapsed": true
   },
   "outputs": [],
   "source": [
    "together.index"
   ]
  },
  {
   "cell_type": "code",
   "execution_count": null,
   "metadata": {
    "collapsed": true
   },
   "outputs": [],
   "source": []
  }
 ],
 "metadata": {
  "kernelspec": {
   "display_name": "Python 3",
   "language": "python",
   "name": "python3"
  },
  "language_info": {
   "codemirror_mode": {
    "name": "ipython",
    "version": 3
   },
   "file_extension": ".py",
   "mimetype": "text/x-python",
   "name": "python",
   "nbconvert_exporter": "python",
   "pygments_lexer": "ipython3",
   "version": "3.5.2"
  }
 },
 "nbformat": 4,
 "nbformat_minor": 2
}
