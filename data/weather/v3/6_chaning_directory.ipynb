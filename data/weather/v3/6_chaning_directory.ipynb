{
 "cells": [
  {
   "cell_type": "code",
   "execution_count": null,
   "metadata": {},
   "outputs": [],
   "source": [
    "import pandas as pd\n",
    "import glob, os\n",
    "from tqdm import tqdm"
   ]
  },
  {
   "cell_type": "code",
   "execution_count": null,
   "metadata": {
    "collapsed": true
   },
   "outputs": [],
   "source": [
    "def merge_by_hours_ahead(year, all_files, hour):\n",
    "    error_files = []\n",
    "    merged = pd.DataFrame()\n",
    "    hour_index = hour + 5\n",
    "    \n",
    "    for file in tqdm(all_files):\n",
    "        try: \n",
    "            data = pd.read_csv(file)\n",
    "            data = data.loc[data.index[hour_index]:data.index[hour_index]]        \n",
    "            merged = pd.concat([merged, data])\n",
    "        \n",
    "        except:\n",
    "            print('Error with file: ' +  file)\n",
    "            error_files.append(file)\n",
    "       \n",
    "        merged_file_name = 'merged_' + str(year) + '_' + str(hour) + '.csv'\n",
    "        merged.to_csv(merged_file_name)"
   ]
  },
  {
   "cell_type": "code",
   "execution_count": null,
   "metadata": {},
   "outputs": [],
   "source": [
    "years = [2013, 2014, 2015, 2016, 2017]\n",
    "for year in years:\n",
    "    print('For: ' + str(year))\n",
    "    for hour in range(72):\n",
    "        print('For: ' + str(hour))\n",
    "        directory = \"./\" + str(year) + '/' \n",
    "        os.chdir(directory)\n",
    "        all_files = glob.glob(\"*csv\")\n",
    "\n",
    "        merge_by_hours_ahead(year, all_files, hour)\n",
    "        dir_path = os.path.dirname(os.path.realpath('6_chaning_directory.ipynb'))\n",
    "        os.chdir(dir_path[:-4])"
   ]
  },
  {
   "cell_type": "code",
   "execution_count": null,
   "metadata": {
    "collapsed": true
   },
   "outputs": [],
   "source": []
  }
 ],
 "metadata": {
  "kernelspec": {
   "display_name": "Python 3",
   "language": "python",
   "name": "python3"
  },
  "language_info": {
   "codemirror_mode": {
    "name": "ipython",
    "version": 3
   },
   "file_extension": ".py",
   "mimetype": "text/x-python",
   "name": "python",
   "nbconvert_exporter": "python",
   "pygments_lexer": "ipython3",
   "version": "3.5.2"
  }
 },
 "nbformat": 4,
 "nbformat_minor": 2
}
