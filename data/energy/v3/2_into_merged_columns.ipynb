{
 "cells": [
  {
   "cell_type": "code",
   "execution_count": 1,
   "metadata": {
    "collapsed": true
   },
   "outputs": [],
   "source": [
    "import pandas as pd\n",
    "from tqdm import tqdm"
   ]
  },
  {
   "cell_type": "code",
   "execution_count": 2,
   "metadata": {
    "collapsed": true
   },
   "outputs": [],
   "source": [
    "stations = ['Auvergne-Rhone-Alpes', \n",
    "            'Bourgogne-Franche-Comte', \n",
    "            'Bretagne', \n",
    "            'Centre-Val de Loire', \n",
    "            'Grand-Est', \n",
    "            'Hauts-de-France',\n",
    "            'Ile-de-France', \n",
    "            'Normandie', \n",
    "            'Nouvelle-Aquitaine', \n",
    "            'Occitanie',\n",
    "            'PACA', \n",
    "            'Pays-de-la-Loire']\n",
    "\n",
    "years = ['2013', '2014', '2015', '2016+2017-05', '2017-06']\n",
    "features = ['Consumption',\n",
    "            'Thermal',\n",
    "            'Nuclear',\n",
    "            'Wind',\n",
    "            'Solar',\n",
    "            'Hydraulic',\n",
    "            'Pumping',\n",
    "            'Bioenergies',\n",
    "            'Physical exchanges']"
   ]
  },
  {
   "cell_type": "code",
   "execution_count": 3,
   "metadata": {
    "scrolled": true
   },
   "outputs": [
    {
     "name": "stderr",
     "output_type": "stream",
     "text": [
      "\r",
      "  0%|          | 0/9 [00:00<?, ?it/s]"
     ]
    },
    {
     "name": "stdout",
     "output_type": "stream",
     "text": [
      "Year: 2013\n",
      "Year: 2014\n",
      "Year: 2015\n",
      "Year: 2016+2017-05\n",
      "Year: 2017-06\n"
     ]
    },
    {
     "name": "stderr",
     "output_type": "stream",
     "text": [
      "\r",
      " 11%|█         | 1/9 [00:05<00:46,  5.77s/it]"
     ]
    },
    {
     "name": "stdout",
     "output_type": "stream",
     "text": [
      "Year: 2013\n",
      "Year: 2014\n",
      "Year: 2015\n",
      "Year: 2016+2017-05\n",
      "Year: 2017-06\n"
     ]
    },
    {
     "name": "stderr",
     "output_type": "stream",
     "text": [
      "\r",
      " 22%|██▏       | 2/9 [00:11<00:40,  5.79s/it]"
     ]
    },
    {
     "name": "stdout",
     "output_type": "stream",
     "text": [
      "Year: 2013\n",
      "Year: 2014\n",
      "Year: 2015\n",
      "Year: 2016+2017-05\n",
      "Year: 2017-06\n"
     ]
    },
    {
     "name": "stderr",
     "output_type": "stream",
     "text": [
      "\r",
      " 33%|███▎      | 3/9 [00:17<00:34,  5.74s/it]"
     ]
    },
    {
     "name": "stdout",
     "output_type": "stream",
     "text": [
      "Year: 2013\n",
      "Year: 2014\n",
      "Year: 2015\n",
      "Year: 2016+2017-05\n",
      "Year: 2017-06\n"
     ]
    },
    {
     "name": "stderr",
     "output_type": "stream",
     "text": [
      "\r",
      " 44%|████▍     | 4/9 [00:23<00:28,  5.77s/it]"
     ]
    },
    {
     "name": "stdout",
     "output_type": "stream",
     "text": [
      "Year: 2013\n",
      "Year: 2014\n",
      "Year: 2015\n",
      "Year: 2016+2017-05\n",
      "Year: 2017-06\n"
     ]
    },
    {
     "name": "stderr",
     "output_type": "stream",
     "text": [
      "\r",
      " 56%|█████▌    | 5/9 [00:28<00:23,  5.81s/it]"
     ]
    },
    {
     "name": "stdout",
     "output_type": "stream",
     "text": [
      "Year: 2013\n",
      "Year: 2014\n",
      "Year: 2015\n",
      "Year: 2016+2017-05\n",
      "Year: 2017-06\n"
     ]
    },
    {
     "name": "stderr",
     "output_type": "stream",
     "text": [
      "\r",
      " 67%|██████▋   | 6/9 [00:34<00:17,  5.84s/it]"
     ]
    },
    {
     "name": "stdout",
     "output_type": "stream",
     "text": [
      "Year: 2013\n",
      "Year: 2014\n",
      "Year: 2015\n",
      "Year: 2016+2017-05\n",
      "Year: 2017-06\n"
     ]
    },
    {
     "name": "stderr",
     "output_type": "stream",
     "text": [
      "\r",
      " 78%|███████▊  | 7/9 [00:40<00:11,  5.84s/it]"
     ]
    },
    {
     "name": "stdout",
     "output_type": "stream",
     "text": [
      "Year: 2013\n",
      "Year: 2014\n",
      "Year: 2015\n",
      "Year: 2016+2017-05\n",
      "Year: 2017-06\n"
     ]
    },
    {
     "name": "stderr",
     "output_type": "stream",
     "text": [
      "\r",
      " 89%|████████▉ | 8/9 [00:46<00:05,  5.79s/it]"
     ]
    },
    {
     "name": "stdout",
     "output_type": "stream",
     "text": [
      "Year: 2013\n",
      "Year: 2014\n",
      "Year: 2015\n",
      "Year: 2016+2017-05\n",
      "Year: 2017-06\n"
     ]
    },
    {
     "name": "stderr",
     "output_type": "stream",
     "text": [
      "100%|██████████| 9/9 [00:52<00:00,  5.81s/it]\n"
     ]
    }
   ],
   "source": [
    "for feature in tqdm(features):\n",
    "    print('Feature: ' + str(feature))\n",
    "    for year in years:\n",
    "        merged = pd.DataFrame()\n",
    "        #print('Year: ' + str(year))\n",
    "        for station in stations:\n",
    "            # Loading csv data from the day\n",
    "            file = './' + station + '/' + year + '.csv'\n",
    "            df = pd.read_csv(file)\n",
    "            # Renaming the columns\n",
    "            #print(file)\n",
    "            merged = pd.concat([merged, df])\n",
    "\n",
    "        new_index = merged['Date'] + ' ' + merged['Hour'] + ':00'\n",
    "        merged.index = new_index\n",
    "        del merged['Unnamed: 0']\n",
    "\n",
    "        feature_data = pd.DataFrame()\n",
    "\n",
    "        for station in stations:\n",
    "            temp = merged.loc[merged['Station'] == station]\n",
    "            temp.index = range(len(temp))\n",
    "            feature_data[station] = temp[feature]\n",
    "        feature_data.index = df['Date'] + ' ' + df['Hour'] + ':00'\n",
    "\n",
    "        feature_file_name = './by_features/' + '/' + year + '/' + feature + '_' + year + '.csv'\n",
    "\n",
    "        feature_data.to_csv(feature_file_name) \n"
   ]
  }
 ],
 "metadata": {
  "kernelspec": {
   "display_name": "Python 3",
   "language": "python",
   "name": "python3"
  },
  "language_info": {
   "codemirror_mode": {
    "name": "ipython",
    "version": 3
   },
   "file_extension": ".py",
   "mimetype": "text/x-python",
   "name": "python",
   "nbconvert_exporter": "python",
   "pygments_lexer": "ipython3",
   "version": "3.5.2"
  }
 },
 "nbformat": 4,
 "nbformat_minor": 2
}
