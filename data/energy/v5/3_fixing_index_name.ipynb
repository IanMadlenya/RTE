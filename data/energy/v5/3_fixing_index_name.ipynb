{
 "cells": [
  {
   "cell_type": "code",
   "execution_count": 1,
   "metadata": {
    "collapsed": true
   },
   "outputs": [],
   "source": [
    "import pandas as pd\n",
    "from tqdm import tqdm"
   ]
  },
  {
   "cell_type": "code",
   "execution_count": 2,
   "metadata": {
    "collapsed": true
   },
   "outputs": [],
   "source": [
    "stations = ['Auvergne-Rhone-Alpes', \n",
    "            'Bourgogne-Franche-Comte', \n",
    "            'Bretagne', \n",
    "            'Centre-Val de Loire', \n",
    "            'Grand-Est', \n",
    "            'Hauts-de-France',\n",
    "            'Ile-de-France', \n",
    "            'Normandie', \n",
    "            'Nouvelle-Aquitaine', \n",
    "            'Occitanie',\n",
    "            'PACA', \n",
    "            'Pays-de-la-Loire']\n",
    "\n",
    "years = ['2013', '2014', '2015', '2016+2017-05', '2017-06']\n",
    "features = ['Consumption',\n",
    "            'Thermal',\n",
    "            'Nuclear',\n",
    "            'Wind',\n",
    "            'Solar',\n",
    "            'Hydraulic',\n",
    "            'Pumping',\n",
    "            'Bioenergies',\n",
    "            'Physical exchanges']"
   ]
  },
  {
   "cell_type": "code",
   "execution_count": 3,
   "metadata": {},
   "outputs": [
    {
     "name": "stderr",
     "output_type": "stream",
     "text": [
      "100%|██████████| 5/5 [00:07<00:00,  1.24s/it]\n"
     ]
    }
   ],
   "source": [
    "for year in tqdm(years):\n",
    "    for feature in features:\n",
    "        file = './' + year + '/' + feature + '_' + year + '.csv'\n",
    "        df = pd.read_csv(file)\n",
    "\n",
    "        df = df.rename(columns={'Unnamed: 0': 'Time'})\n",
    "\n",
    "        df.index = df['Time']\n",
    "        del df['Time']\n",
    "        df.to_csv(file) "
   ]
  }
 ],
 "metadata": {
  "kernelspec": {
   "display_name": "Python 3",
   "language": "python",
   "name": "python3"
  },
  "language_info": {
   "codemirror_mode": {
    "name": "ipython",
    "version": 3
   },
   "file_extension": ".py",
   "mimetype": "text/x-python",
   "name": "python",
   "nbconvert_exporter": "python",
   "pygments_lexer": "ipython3",
   "version": "3.5.2"
  }
 },
 "nbformat": 4,
 "nbformat_minor": 2
}
